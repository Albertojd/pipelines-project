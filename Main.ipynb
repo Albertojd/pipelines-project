{
 "cells": [
  {
   "cell_type": "markdown",
   "metadata": {},
   "source": [
    "# Importamos la función principal"
   ]
  },
  {
   "cell_type": "code",
   "execution_count": 17,
   "metadata": {
    "scrolled": true
   },
   "outputs": [],
   "source": [
    "from SRC.MainFunctions import world"
   ]
  },
  {
   "cell_type": "markdown",
   "metadata": {},
   "source": [
    "# Esta función nos pide el nombre del país, y lo adjunta a la función importada"
   ]
  },
  {
   "cell_type": "code",
   "execution_count": 18,
   "metadata": {},
   "outputs": [],
   "source": [
    "def main():\n",
    "    countries = input('Inserta el país del que quieres obtener información')\n",
    "    print(world(countries))"
   ]
  },
  {
   "cell_type": "code",
   "execution_count": 16,
   "metadata": {},
   "outputs": [
    {
     "name": "stdout",
     "output_type": "stream",
     "text": [
      "Inserta el país del que quieres obtener informacióncuba\n",
      "It seems that you want to know something about Cuba, find below some information\n",
      "Capital: \u001b[1mHavana\u001b[0m\n",
      "Language: \u001b[1mSpanish\u001b[0m\n",
      "Native name: \u001b[1mCuba\u001b[0m\n",
      "Currecy: \u001b[1mCuban convertible peso\u001b[0m\n",
      "Time zone: \u001b[1mUTC-05:00\u001b[0m\n",
      "Population: \u001b[1m11,382,820\u001b[0m\n",
      "Gross Domestic Product: \u001b[1m2,900.0\u001b[0m $\n",
      "Birthrate: \u001b[1m10.06\u001b[0m ‰\n",
      "Deathrate: \u001b[1m9.72\u001b[0m ‰\n",
      "population density; \u001b[1m103.5894215718394\u001b[0m hab/km²\n"
     ]
    },
    {
     "data": {
      "text/html": [
       "<img src=\"https://restcountries.eu/data/cub.svg\"/>"
      ],
      "text/plain": [
       "<IPython.core.display.Image object>"
      ]
     },
     "metadata": {},
     "output_type": "display_data"
    },
    {
     "name": "stdout",
     "output_type": "stream",
     "text": [
      "None\n"
     ]
    }
   ],
   "source": [
    "main()"
   ]
  },
  {
   "cell_type": "code",
   "execution_count": null,
   "metadata": {},
   "outputs": [],
   "source": []
  }
 ],
 "metadata": {
  "kernelspec": {
   "display_name": "Python 3",
   "language": "python",
   "name": "python3"
  },
  "language_info": {
   "codemirror_mode": {
    "name": "ipython",
    "version": 3
   },
   "file_extension": ".py",
   "mimetype": "text/x-python",
   "name": "python",
   "nbconvert_exporter": "python",
   "pygments_lexer": "ipython3",
   "version": "3.8.3"
  }
 },
 "nbformat": 4,
 "nbformat_minor": 4
}
