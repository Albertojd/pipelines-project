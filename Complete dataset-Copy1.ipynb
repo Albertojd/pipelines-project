{
 "cells": [
  {
   "cell_type": "code",
   "execution_count": 253,
   "metadata": {},
   "outputs": [],
   "source": [
    "import json\n",
    "import requests\n",
    "import pandas as pd\n",
    "from pandas import json_normalize"
   ]
  },
  {
   "cell_type": "code",
   "execution_count": 254,
   "metadata": {},
   "outputs": [],
   "source": [
    "def capital(x):\n",
    "    url = f\"https://restcountries.eu/rest/v2/name/{x}?fullText=true\"\n",
    "    response = requests.get(url)\n",
    "    data = response.json()\n",
    "    results = [x[\"capital\"] for x in data]\n",
    "    return results"
   ]
  },
  {
   "cell_type": "code",
   "execution_count": 273,
   "metadata": {},
   "outputs": [
    {
     "data": {
      "text/plain": [
       "['Port Vila']"
      ]
     },
     "execution_count": 273,
     "metadata": {},
     "output_type": "execute_result"
    }
   ],
   "source": [
    "capital('Vanuatu')"
   ]
  },
  {
   "cell_type": "code",
   "execution_count": null,
   "metadata": {},
   "outputs": [],
   "source": []
  },
  {
   "cell_type": "code",
   "execution_count": 256,
   "metadata": {},
   "outputs": [],
   "source": [
    "def timezone(x):\n",
    "    url = f\"https://restcountries.eu/rest/v2/name/{x}?fullText=true\"\n",
    "    response = requests.get(url)\n",
    "    data = response.json()\n",
    "    results = [x[\"timezones\"] for x in data]\n",
    "    return print(results[0])"
   ]
  },
  {
   "cell_type": "code",
   "execution_count": 257,
   "metadata": {},
   "outputs": [
    {
     "name": "stdout",
     "output_type": "stream",
     "text": [
      "['UTC+07:00']\n"
     ]
    }
   ],
   "source": [
    "timezone('viet nam')"
   ]
  },
  {
   "cell_type": "code",
   "execution_count": 258,
   "metadata": {},
   "outputs": [],
   "source": [
    "def nativename(x):\n",
    "    url = f\"https://restcountries.eu/rest/v2/name/{x}?fullText=true\"\n",
    "    response = requests.get(url)\n",
    "    data = response.json()\n",
    "    results = [x[\"nativeName\"] for x in data]\n",
    "    return print(f'The name of the {x}, in its language is:',results[0])"
   ]
  },
  {
   "cell_type": "code",
   "execution_count": 259,
   "metadata": {},
   "outputs": [
    {
     "name": "stdout",
     "output_type": "stream",
     "text": [
      "The name of the thailand, in its language is: ประเทศไทย\n"
     ]
    }
   ],
   "source": [
    "nativename('thailand')"
   ]
  },
  {
   "cell_type": "code",
   "execution_count": 260,
   "metadata": {},
   "outputs": [],
   "source": [
    "def languages(x):\n",
    "    url = f\"https://restcountries.eu/rest/v2/name/{x}?fullText=true\"\n",
    "    response = requests.get(url)\n",
    "    data = response.json()\n",
    "    results = [x[\"languages\"] for x in data]\n",
    "    lang = [x[\"name\"] for x in results[0]]\n",
    "    return print(f'The language in {x}, is:',lang[0])"
   ]
  },
  {
   "cell_type": "code",
   "execution_count": 261,
   "metadata": {},
   "outputs": [
    {
     "name": "stdout",
     "output_type": "stream",
     "text": [
      "The language in cambodia, is: Khmer\n"
     ]
    }
   ],
   "source": [
    "languages('cambodia')"
   ]
  },
  {
   "cell_type": "code",
   "execution_count": 266,
   "metadata": {},
   "outputs": [],
   "source": [
    "def currencies(x):\n",
    "    url = f\"https://restcountries.eu/rest/v2/name/{x}?fullText=true\"\n",
    "    response = requests.get(url)\n",
    "    data = response.json()\n",
    "    results = [x[\"currencies\"] for x in data]\n",
    "    lang = [x[\"name\"] for x in results[0]]\n",
    "    return print(f'The currency of {x}, is:',lang[0])"
   ]
  },
  {
   "cell_type": "code",
   "execution_count": 270,
   "metadata": {},
   "outputs": [
    {
     "name": "stdout",
     "output_type": "stream",
     "text": [
      "The currency of perú, is: Peruvian sol\n"
     ]
    }
   ],
   "source": [
    "currencies('perú')"
   ]
  },
  {
   "cell_type": "code",
   "execution_count": null,
   "metadata": {},
   "outputs": [],
   "source": []
  }
 ],
 "metadata": {
  "kernelspec": {
   "display_name": "Python 3",
   "language": "python",
   "name": "python3"
  },
  "language_info": {
   "codemirror_mode": {
    "name": "ipython",
    "version": 3
   },
   "file_extension": ".py",
   "mimetype": "text/x-python",
   "name": "python",
   "nbconvert_exporter": "python",
   "pygments_lexer": "ipython3",
   "version": "3.8.3"
  }
 },
 "nbformat": 4,
 "nbformat_minor": 4
}
