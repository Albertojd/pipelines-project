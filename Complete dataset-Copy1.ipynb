{
 "cells": [
  {
   "cell_type": "code",
   "execution_count": 1,
   "metadata": {},
   "outputs": [],
   "source": [
    "import json\n",
    "import requests\n",
    "import pandas as pd\n",
    "from pandas import json_normalize\n",
    "from IPython.display import Image\n",
    "from IPython.core.display import HTML "
   ]
  },
  {
   "cell_type": "code",
   "execution_count": 2,
   "metadata": {},
   "outputs": [],
   "source": [
    "def capital(x):\n",
    "    url = f\"https://restcountries.eu/rest/v2/name/{x}?fullText=true\"\n",
    "    response = requests.get(url)\n",
    "    data = response.json()\n",
    "    capital = [x[\"capital\"] for x in data]\n",
    "    return print(f'The capital of {x} is:', capital[0])\n"
   ]
  },
  {
   "cell_type": "code",
   "execution_count": 3,
   "metadata": {},
   "outputs": [
    {
     "name": "stdout",
     "output_type": "stream",
     "text": [
      "The capital of Vanuatu is: Port Vila\n"
     ]
    }
   ],
   "source": [
    "capital('Vanuatu')"
   ]
  },
  {
   "cell_type": "code",
   "execution_count": null,
   "metadata": {},
   "outputs": [],
   "source": []
  },
  {
   "cell_type": "code",
   "execution_count": 23,
   "metadata": {},
   "outputs": [],
   "source": [
    "def timezone(x):\n",
    "    url = f\"https://restcountries.eu/rest/v2/name/{x}?fullText=true\"\n",
    "    response = requests.get(url)\n",
    "    data = response.json()\n",
    "    timezone = [x[\"timezones\"] for x in data]\n",
    "    return print(f'The timezone in {x} is:',timezone[0])"
   ]
  },
  {
   "cell_type": "code",
   "execution_count": 24,
   "metadata": {},
   "outputs": [
    {
     "name": "stdout",
     "output_type": "stream",
     "text": [
      "The timezone in spain is: ['UTC', 'UTC+01:00']\n"
     ]
    }
   ],
   "source": [
    "timezone('spain')"
   ]
  },
  {
   "cell_type": "code",
   "execution_count": 6,
   "metadata": {},
   "outputs": [],
   "source": [
    "def nativename(x):\n",
    "    url = f\"https://restcountries.eu/rest/v2/name/{x}?fullText=true\"\n",
    "    response = requests.get(url)\n",
    "    data = response.json()\n",
    "    results = [x[\"nativeName\"] for x in data]\n",
    "    return print(f'The name of the {x}, in its language is:',results[0])"
   ]
  },
  {
   "cell_type": "code",
   "execution_count": 7,
   "metadata": {},
   "outputs": [
    {
     "name": "stdout",
     "output_type": "stream",
     "text": [
      "The name of the thailand, in its language is: ประเทศไทย\n"
     ]
    }
   ],
   "source": [
    "nativename('thailand')"
   ]
  },
  {
   "cell_type": "code",
   "execution_count": 8,
   "metadata": {},
   "outputs": [],
   "source": [
    "def languages(x):\n",
    "    url = f\"https://restcountries.eu/rest/v2/name/{x}?fullText=true\"\n",
    "    response = requests.get(url)\n",
    "    data = response.json()\n",
    "    results = [x[\"languages\"] for x in data]\n",
    "    lang = [x[\"name\"] for x in results[0]]\n",
    "    return print(f'The language in {x}, is:',lang[0])"
   ]
  },
  {
   "cell_type": "code",
   "execution_count": 9,
   "metadata": {},
   "outputs": [
    {
     "name": "stdout",
     "output_type": "stream",
     "text": [
      "The language in cambodia, is: Khmer\n"
     ]
    }
   ],
   "source": [
    "languages('cambodia')"
   ]
  },
  {
   "cell_type": "code",
   "execution_count": 10,
   "metadata": {},
   "outputs": [],
   "source": [
    "def currencies(x):\n",
    "    url = f\"https://restcountries.eu/rest/v2/name/{x}?fullText=true\"\n",
    "    response = requests.get(url)\n",
    "    data = response.json()\n",
    "    results = [x[\"currencies\"] for x in data]\n",
    "    lang = [x[\"name\"] for x in results[0]]\n",
    "    return print(f'The currency of {x}, is:',lang[0])"
   ]
  },
  {
   "cell_type": "code",
   "execution_count": 11,
   "metadata": {},
   "outputs": [
    {
     "name": "stdout",
     "output_type": "stream",
     "text": [
      "The currency of perú, is: Peruvian sol\n"
     ]
    }
   ],
   "source": [
    "currencies('perú')"
   ]
  },
  {
   "cell_type": "code",
   "execution_count": 12,
   "metadata": {},
   "outputs": [],
   "source": [
    "def flag(x):\n",
    "    url = f\"https://restcountries.eu/rest/v2/name/{x}?fullText=true\"\n",
    "    response = requests.get(url)\n",
    "    data = response.json()\n",
    "    results = [x[\"flag\"] for x in data]\n",
    "    return results"
   ]
  },
  {
   "cell_type": "code",
   "execution_count": null,
   "metadata": {},
   "outputs": [],
   "source": []
  },
  {
   "cell_type": "code",
   "execution_count": null,
   "metadata": {},
   "outputs": [],
   "source": [
    "flag('spain')"
   ]
  },
  {
   "cell_type": "code",
   "execution_count": null,
   "metadata": {},
   "outputs": [],
   "source": [
    "Image(url= [\"https://restcountries.eu/data/esp.svg\"])"
   ]
  },
  {
   "cell_type": "code",
   "execution_count": null,
   "metadata": {},
   "outputs": [],
   "source": [
    "   lang = [x[\"name\"] for x in results[0]]"
   ]
  },
  {
   "cell_type": "code",
   "execution_count": null,
   "metadata": {},
   "outputs": [],
   "source": [
    "Image(url= str(resuslts))"
   ]
  },
  {
   "cell_type": "code",
   "execution_count": 13,
   "metadata": {},
   "outputs": [],
   "source": [
    "def api(x):\n",
    "    '''\n",
    "    Utilizamos esta funcion para unicamente llamar una vez a la API en la funcion\n",
    "    de pokemon y poke_num\n",
    "    '''\n",
    "    url = f\"https://restcountries.eu/rest/v2/name/{x}?fullText=true\"\n",
    "    response = requests.get(url)\n",
    "    results = response.json()\n",
    "    return results"
   ]
  },
  {
   "cell_type": "code",
   "execution_count": null,
   "metadata": {},
   "outputs": [],
   "source": []
  },
  {
   "cell_type": "code",
   "execution_count": 14,
   "metadata": {},
   "outputs": [],
   "source": [
    "def cleaning():\n",
    "    import pandas as pd\n",
    "    df = pd.read_csv('countriesworld.csv' ,decimal=',', encoding = 'latin1')\n",
    "    df.columns = df.columns.str.rstrip()\n",
    "    df.columns =df.columns.str.replace(\" \", \"_\")\n",
    "    df.Country =df.Country.str.rstrip()\n",
    "    df = df.set_index(['Country'])\n",
    "    df.rename(columns=lambda x: x.replace(\"(%)\", 'percent'), inplace=True)\n",
    "    df.rename(columns={'GDP_($_per_capita)': 'GDP'}, inplace=True)\n",
    "    df.rename(columns=lambda x: x.replace(\"(\", ''), inplace=True)\n",
    "    df.rename(columns=lambda x: x.replace(\")\", ''), inplace=True)\n",
    "    df.rename(columns=lambda x: x.replace(\".\", ''), inplace=True)\n",
    "    df = df.drop(['Area_sq_mi', 'Pop_Density_per_sq_mi','Coastline_coast/area_ratio','Phones_per_1000',\n",
    "              'Climate','Agriculture','Service','Industry','Agriculture','Other_percent','Crops_percent'], axis = 1)    \n",
    "    return df"
   ]
  },
  {
   "cell_type": "code",
   "execution_count": null,
   "metadata": {},
   "outputs": [],
   "source": []
  },
  {
   "cell_type": "code",
   "execution_count": 37,
   "metadata": {},
   "outputs": [],
   "source": [
    "def world(x):\n",
    "    data = cleaning()\n",
    "    x= x.capitalize()\n",
    "    results = api(x)\n",
    "    print(f'It seems that you want to know something about {x}, find below some information' )\n",
    "    population = (data.loc[x,'Population'])\n",
    "    capital(x)\n",
    "    languages(x)\n",
    "    nativename(x)\n",
    "    currencies(x)\n",
    "    timezone(x)\n",
    "    \n",
    "    print(f'The population in {x} is:','{0:,}'.format(population))\n",
    "    return "
   ]
  },
  {
   "cell_type": "code",
   "execution_count": 38,
   "metadata": {},
   "outputs": [
    {
     "name": "stdout",
     "output_type": "stream",
     "text": [
      "It seems that you want to know something about Spain, find below some information\n",
      "The capital of Spain is: Madrid\n",
      "The language in Spain, is: Spanish\n",
      "The name of the Spain, in its language is: España\n",
      "The currency of Spain, is: Euro\n",
      "The timezone in Spain is: ['UTC', 'UTC+01:00']\n",
      "The population in Spain is: 40,397,842\n"
     ]
    }
   ],
   "source": [
    "world('Spain')"
   ]
  },
  {
   "cell_type": "code",
   "execution_count": null,
   "metadata": {},
   "outputs": [],
   "source": [
    "    name = data[(data[\"Country\"]== x.title())]\n",
    "    ataque = name['Population'].values[0].round(2)\n",
    "    print(f'    Su ataque es de {ataque}')\n",
    "    \n",
    "    \n",
    "    \n",
    "    name = data[(data[\"Country\"]== x.title())]\n",
    "    ataque = name['Population']\n",
    "    print(f'    Su población es {ataque}')\n",
    "    defensa = name['Literacy_percent']\n",
    "    print(f'    Su alfabetización es de {defensa}')"
   ]
  },
  {
   "cell_type": "code",
   "execution_count": null,
   "metadata": {},
   "outputs": [],
   "source": [
    "cleaning()"
   ]
  },
  {
   "cell_type": "code",
   "execution_count": null,
   "metadata": {},
   "outputs": [],
   "source": []
  }
 ],
 "metadata": {
  "kernelspec": {
   "display_name": "Python 3",
   "language": "python",
   "name": "python3"
  },
  "language_info": {
   "codemirror_mode": {
    "name": "ipython",
    "version": 3
   },
   "file_extension": ".py",
   "mimetype": "text/x-python",
   "name": "python",
   "nbconvert_exporter": "python",
   "pygments_lexer": "ipython3",
   "version": "3.8.3"
  }
 },
 "nbformat": 4,
 "nbformat_minor": 4
}
