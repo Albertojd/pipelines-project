{
 "cells": [
  {
   "cell_type": "code",
   "execution_count": 1,
   "metadata": {},
   "outputs": [],
   "source": [
    "import json\n",
    "import requests\n",
    "import pandas as pd\n",
    "from pandas import json_normalize\n",
    "from IPython.display import Image\n",
    "from IPython.core.display import HTML "
   ]
  },
  {
   "cell_type": "code",
   "execution_count": 57,
   "metadata": {},
   "outputs": [],
   "source": [
    "class color:\n",
    "    PURPLE = '\\033[95m'\n",
    "    CYAN = '\\033[96m'\n",
    "    DARKCYAN = '\\033[36m'\n",
    "    BLUE = '\\033[94m'\n",
    "    GREEN = '\\033[92m'\n",
    "    YELLOW = '\\033[93m'\n",
    "    RED = '\\033[91m'\n",
    "    BOLD = '\\033[1m'\n",
    "    UNDERLINE = '\\033[4m'\n",
    "    END = '\\033[0m'"
   ]
  },
  {
   "cell_type": "code",
   "execution_count": 58,
   "metadata": {},
   "outputs": [],
   "source": [
    "def capital(x):\n",
    "    url = f\"https://restcountries.eu/rest/v2/name/{x}?fullText=true\"\n",
    "    response = requests.get(url)\n",
    "    data = response.json()\n",
    "    capital = [x[\"capital\"] for x in data]\n",
    "    return print(f'Capital:',color.BOLD+capital[0]+color.END)\n",
    "\n"
   ]
  },
  {
   "cell_type": "code",
   "execution_count": 59,
   "metadata": {},
   "outputs": [
    {
     "name": "stdout",
     "output_type": "stream",
     "text": [
      "Capital: \u001b[1mPort Vila\u001b[0m\n"
     ]
    }
   ],
   "source": [
    "capital('Vanuatu')"
   ]
  },
  {
   "cell_type": "code",
   "execution_count": null,
   "metadata": {},
   "outputs": [],
   "source": []
  },
  {
   "cell_type": "code",
   "execution_count": 60,
   "metadata": {},
   "outputs": [],
   "source": [
    "def timezone(x):\n",
    "    url = f\"https://restcountries.eu/rest/v2/name/{x}?fullText=true\"\n",
    "    response = requests.get(url)\n",
    "    data = response.json()\n",
    "    timezone = [x[\"timezones\"] for x in data]\n",
    "    return print(f'Time zone:',color.BOLD+timezone[0][0]+color.END)"
   ]
  },
  {
   "cell_type": "code",
   "execution_count": 61,
   "metadata": {},
   "outputs": [
    {
     "name": "stdout",
     "output_type": "stream",
     "text": [
      "Time zone: \u001b[1mUTC\u001b[0m\n"
     ]
    }
   ],
   "source": [
    "timezone('spain')"
   ]
  },
  {
   "cell_type": "code",
   "execution_count": 62,
   "metadata": {},
   "outputs": [],
   "source": [
    "def nativename(x):\n",
    "    url = f\"https://restcountries.eu/rest/v2/name/{x}?fullText=true\"\n",
    "    response = requests.get(url)\n",
    "    data = response.json()\n",
    "    results = [x[\"nativeName\"] for x in data]\n",
    "    return print(f'Native name:',color.BOLD+results[0]+color.END)"
   ]
  },
  {
   "cell_type": "code",
   "execution_count": 63,
   "metadata": {},
   "outputs": [
    {
     "name": "stdout",
     "output_type": "stream",
     "text": [
      "Native name: \u001b[1mประเทศไทย\u001b[0m\n"
     ]
    }
   ],
   "source": [
    "nativename('thailand')"
   ]
  },
  {
   "cell_type": "code",
   "execution_count": 64,
   "metadata": {},
   "outputs": [],
   "source": [
    "def languages(x):\n",
    "    url = f\"https://restcountries.eu/rest/v2/name/{x}?fullText=true\"\n",
    "    response = requests.get(url)\n",
    "    data = response.json()\n",
    "    results = [x[\"languages\"] for x in data]\n",
    "    lang = [x[\"name\"] for x in results[0]]\n",
    "    return print(f'Language:',color.BOLD+lang[0]+color.END)"
   ]
  },
  {
   "cell_type": "code",
   "execution_count": 65,
   "metadata": {},
   "outputs": [
    {
     "name": "stdout",
     "output_type": "stream",
     "text": [
      "Language: \u001b[1mKhmer\u001b[0m\n"
     ]
    }
   ],
   "source": [
    "languages('cambodia')"
   ]
  },
  {
   "cell_type": "code",
   "execution_count": 66,
   "metadata": {},
   "outputs": [],
   "source": [
    "def currencies(x):\n",
    "    url = f\"https://restcountries.eu/rest/v2/name/{x}?fullText=true\"\n",
    "    response = requests.get(url)\n",
    "    data = response.json()\n",
    "    results = [x[\"currencies\"] for x in data]\n",
    "    curr = [x[\"name\"] for x in results[0]]\n",
    "    return print(f'Currecy:',color.BOLD+curr[0]+color.END)"
   ]
  },
  {
   "cell_type": "code",
   "execution_count": 67,
   "metadata": {},
   "outputs": [
    {
     "name": "stdout",
     "output_type": "stream",
     "text": [
      "Currecy: \u001b[1mPeruvian sol\u001b[0m\n"
     ]
    }
   ],
   "source": [
    "currencies('perú')"
   ]
  },
  {
   "cell_type": "code",
   "execution_count": 142,
   "metadata": {},
   "outputs": [],
   "source": [
    "def area(x):\n",
    "    url = f\"https://restcountries.eu/rest/v2/name/{x}?fullText=true\"\n",
    "    response = requests.get(url)\n",
    "    data = response.json()\n",
    "    area = [x[\"area\"] for x in data]\n",
    "    return int(area[0])"
   ]
  },
  {
   "cell_type": "code",
   "execution_count": 113,
   "metadata": {},
   "outputs": [
    {
     "data": {
      "text/plain": [
       "505992"
      ]
     },
     "execution_count": 113,
     "metadata": {},
     "output_type": "execute_result"
    }
   ],
   "source": [
    "density('spain')"
   ]
  },
  {
   "cell_type": "code",
   "execution_count": 134,
   "metadata": {},
   "outputs": [],
   "source": [
    "def flag(x):\n",
    "    url = f\"https://restcountries.eu/rest/v2/name/{x}?fullText=true\"\n",
    "    response = requests.get(url)\n",
    "    data = response.json()\n",
    "    results = [x[\"flag\"] for x in data]\n",
    "    return Image(url=results[0])"
   ]
  },
  {
   "cell_type": "code",
   "execution_count": null,
   "metadata": {},
   "outputs": [],
   "source": []
  },
  {
   "cell_type": "code",
   "execution_count": 135,
   "metadata": {},
   "outputs": [
    {
     "data": {
      "text/html": [
       "<img src=\"https://restcountries.eu/data/cub.svg\"/>"
      ],
      "text/plain": [
       "<IPython.core.display.Image object>"
      ]
     },
     "execution_count": 135,
     "metadata": {},
     "output_type": "execute_result"
    }
   ],
   "source": [
    "flag('cuba')"
   ]
  },
  {
   "cell_type": "code",
   "execution_count": 88,
   "metadata": {},
   "outputs": [
    {
     "data": {
      "text/html": [
       "<img src=\"https://restcountries.eu/data/esp.svg\"/>"
      ],
      "text/plain": [
       "<IPython.core.display.Image object>"
      ]
     },
     "execution_count": 88,
     "metadata": {},
     "output_type": "execute_result"
    }
   ],
   "source": [
    "Image(url= \"https://restcountries.eu/data/esp.svg\")"
   ]
  },
  {
   "cell_type": "code",
   "execution_count": null,
   "metadata": {},
   "outputs": [],
   "source": [
    "   lang = [x[\"name\"] for x in results[0]]"
   ]
  },
  {
   "cell_type": "code",
   "execution_count": null,
   "metadata": {},
   "outputs": [],
   "source": [
    "Image(url= str(resuslts))"
   ]
  },
  {
   "cell_type": "code",
   "execution_count": 13,
   "metadata": {},
   "outputs": [],
   "source": [
    "def api(x):\n",
    "    '''\n",
    "    Utilizamos esta funcion para unicamente llamar una vez a la API en la funcion\n",
    "    de pokemon y poke_num\n",
    "    '''\n",
    "    url = f\"https://restcountries.eu/rest/v2/name/{x}?fullText=true\"\n",
    "    response = requests.get(url)\n",
    "    results = response.json()\n",
    "    return results"
   ]
  },
  {
   "cell_type": "code",
   "execution_count": null,
   "metadata": {},
   "outputs": [],
   "source": []
  },
  {
   "cell_type": "code",
   "execution_count": 68,
   "metadata": {},
   "outputs": [],
   "source": [
    "def cleaning():\n",
    "    import pandas as pd\n",
    "    df = pd.read_csv('countriesworld.csv' ,decimal=',', encoding = 'latin1')\n",
    "    df.columns = df.columns.str.rstrip()\n",
    "    df.columns =df.columns.str.replace(\" \", \"_\")\n",
    "    df.Country =df.Country.str.rstrip()\n",
    "    df = df.set_index(['Country'])\n",
    "    df.rename(columns=lambda x: x.replace(\"(%)\", 'percent'), inplace=True)\n",
    "    df.rename(columns={'GDP_($_per_capita)': 'GDP'}, inplace=True)\n",
    "    df.rename(columns=lambda x: x.replace(\"(\", ''), inplace=True)\n",
    "    df.rename(columns=lambda x: x.replace(\")\", ''), inplace=True)\n",
    "    df.rename(columns=lambda x: x.replace(\".\", ''), inplace=True)\n",
    "    df = df.drop(['Area_sq_mi', 'Pop_Density_per_sq_mi','Coastline_coast/area_ratio','Phones_per_1000',\n",
    "              'Climate','Agriculture','Service','Industry','Agriculture','Other_percent','Crops_percent'], axis = 1)    \n",
    "    return df"
   ]
  },
  {
   "cell_type": "code",
   "execution_count": null,
   "metadata": {},
   "outputs": [],
   "source": []
  },
  {
   "cell_type": "code",
   "execution_count": 145,
   "metadata": {},
   "outputs": [],
   "source": [
    "def world(x):\n",
    "    data = cleaning()\n",
    "    x= x.capitalize()\n",
    "    results = api(x)\n",
    "    print(f'It seems that you want to know something about {x}, find below some information' )\n",
    "    population = (data.loc[x,'Population'])\n",
    "    gdp = (data.loc[x,'GDP'])\n",
    "    birth= (data.loc[\"Spain\",'Birthrate'])\n",
    "    death= (data.loc[\"Spain\",'Deathrate'])\n",
    "    density=population/area(x)\n",
    "    capital(x)\n",
    "    languages(x)\n",
    "    nativename(x)\n",
    "    currencies(x)\n",
    "    timezone(x)\n",
    "    \n",
    "    print(f'Population:',color.BOLD+'{0:,}'.format(population)+color.END)\n",
    "    print(f'Gross Domestic Product:',color.BOLD+'{0:,}'.format(gdp)+color.END,'$')\n",
    "    print(f'Birthrate:',color.BOLD+'{0:,}'.format(birth)+color.END,'‰' )\n",
    "    print(f'Deathrate:',color.BOLD+'{0:,}'.format(death)+color.END,'‰' )\n",
    "    print(f'population density;',color.BOLD+'{0:,}'.format(density)+color.END,'hab/km²')\n",
    "    display(flag(x))\n",
    "    return "
   ]
  },
  {
   "cell_type": "code",
   "execution_count": 148,
   "metadata": {},
   "outputs": [
    {
     "name": "stdout",
     "output_type": "stream",
     "text": [
      "It seems that you want to know something about Angola, find below some information\n",
      "Capital: \u001b[1mLuanda\u001b[0m\n",
      "Language: \u001b[1mPortuguese\u001b[0m\n",
      "Native name: \u001b[1mAngola\u001b[0m\n",
      "Currecy: \u001b[1mAngolan kwanza\u001b[0m\n",
      "Time zone: \u001b[1mUTC+01:00\u001b[0m\n",
      "Population: \u001b[1m12,127,071\u001b[0m\n",
      "Gross Domestic Product: \u001b[1m1,900.0\u001b[0m $\n",
      "Birthrate: \u001b[1m10.06\u001b[0m ‰\n",
      "Deathrate: \u001b[1m9.72\u001b[0m ‰\n",
      "population density; \u001b[1m9.727336969599744\u001b[0m hab/km²\n"
     ]
    },
    {
     "data": {
      "text/html": [
       "<img src=\"https://restcountries.eu/data/ago.svg\"/>"
      ],
      "text/plain": [
       "<IPython.core.display.Image object>"
      ]
     },
     "metadata": {},
     "output_type": "display_data"
    }
   ],
   "source": [
    "world('Angola')"
   ]
  },
  {
   "cell_type": "code",
   "execution_count": null,
   "metadata": {},
   "outputs": [],
   "source": [
    "    name = data[(data[\"Country\"]== x.title())]\n",
    "    ataque = name['Population'].values[0].round(2)\n",
    "    print(f'    Su ataque es de {ataque}')\n",
    "    \n",
    "    \n",
    "    \n",
    "    name = data[(data[\"Country\"]== x.title())]\n",
    "    ataque = name['Population']\n",
    "    print(f'    Su población es {ataque}')\n",
    "    defensa = name['Literacy_percent']\n",
    "    print(f'    Su alfabetización es de {defensa}')"
   ]
  },
  {
   "cell_type": "code",
   "execution_count": null,
   "metadata": {},
   "outputs": [],
   "source": [
    "cleaning()"
   ]
  },
  {
   "cell_type": "code",
   "execution_count": null,
   "metadata": {},
   "outputs": [],
   "source": []
  }
 ],
 "metadata": {
  "kernelspec": {
   "display_name": "Python 3",
   "language": "python",
   "name": "python3"
  },
  "language_info": {
   "codemirror_mode": {
    "name": "ipython",
    "version": 3
   },
   "file_extension": ".py",
   "mimetype": "text/x-python",
   "name": "python",
   "nbconvert_exporter": "python",
   "pygments_lexer": "ipython3",
   "version": "3.8.3"
  }
 },
 "nbformat": 4,
 "nbformat_minor": 4
}
