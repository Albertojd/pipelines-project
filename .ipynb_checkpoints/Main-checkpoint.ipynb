{
 "cells": [
  {
   "cell_type": "code",
   "execution_count": 1,
   "metadata": {},
   "outputs": [],
   "source": [
    "from SRC.MainFunctions import world\n",
    "\n",
    "def main():\n",
    "    countries = input('''\n",
    "        Inserta el país del que quieres obtener información\n",
    "        ''')\n",
    "    print(world(countries))"
   ]
  },
  {
   "cell_type": "code",
   "execution_count": 2,
   "metadata": {},
   "outputs": [
    {
     "name": "stdout",
     "output_type": "stream",
     "text": [
      "\n",
      "        Inserta el país del que quieres obtener información\n",
      "        spain\n",
      "It seems that you want to know something about Spain, find below some information\n",
      "Capital: \u001b[1mMadrid\u001b[0m\n",
      "Language: \u001b[1mSpanish\u001b[0m\n",
      "Native name: \u001b[1mEspaña\u001b[0m\n",
      "Currecy: \u001b[1mEuro\u001b[0m\n",
      "Time zone: \u001b[1mUTC\u001b[0m\n",
      "Population: \u001b[1m40,397,842\u001b[0m\n",
      "Gross Domestic Product: \u001b[1m22,000.0\u001b[0m $\n",
      "Birthrate: \u001b[1m10.06\u001b[0m ‰\n",
      "Deathrate: \u001b[1m9.72\u001b[0m ‰\n",
      "population density; \u001b[1m79.838894686082\u001b[0m hab/km²\n"
     ]
    },
    {
     "data": {
      "text/html": [
       "<img src=\"https://restcountries.eu/data/esp.svg\"/>"
      ],
      "text/plain": [
       "<IPython.core.display.Image object>"
      ]
     },
     "metadata": {},
     "output_type": "display_data"
    },
    {
     "name": "stdout",
     "output_type": "stream",
     "text": [
      "None\n"
     ]
    }
   ],
   "source": [
    "main()"
   ]
  },
  {
   "cell_type": "code",
   "execution_count": null,
   "metadata": {},
   "outputs": [],
   "source": []
  }
 ],
 "metadata": {
  "kernelspec": {
   "display_name": "Python 3",
   "language": "python",
   "name": "python3"
  },
  "language_info": {
   "codemirror_mode": {
    "name": "ipython",
    "version": 3
   },
   "file_extension": ".py",
   "mimetype": "text/x-python",
   "name": "python",
   "nbconvert_exporter": "python",
   "pygments_lexer": "ipython3",
   "version": "3.8.3"
  }
 },
 "nbformat": 4,
 "nbformat_minor": 4
}
