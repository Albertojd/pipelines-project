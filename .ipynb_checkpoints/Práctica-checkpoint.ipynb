{
 "cells": [
  {
   "cell_type": "code",
   "execution_count": 35,
   "metadata": {},
   "outputs": [],
   "source": [
    "import requests\n",
    "import pandas as pd\n",
    "from bs4 import BeautifulSoup"
   ]
  },
  {
   "cell_type": "code",
   "execution_count": 36,
   "metadata": {},
   "outputs": [],
   "source": [
    "url = 'https://resultados.as.com/resultados/futbol/primera/clasificacion/'"
   ]
  },
  {
   "cell_type": "code",
   "execution_count": 37,
   "metadata": {},
   "outputs": [],
   "source": [
    "page = requests.get(url)"
   ]
  },
  {
   "cell_type": "code",
   "execution_count": 38,
   "metadata": {},
   "outputs": [],
   "source": [
    "soup = BeautifulSoup(page.content, 'html.parser')"
   ]
  },
  {
   "cell_type": "code",
   "execution_count": 39,
   "metadata": {},
   "outputs": [],
   "source": [
    "eq = soup.find_all('span', class_='nombre-equipo')"
   ]
  },
  {
   "cell_type": "code",
   "execution_count": 40,
   "metadata": {},
   "outputs": [],
   "source": [
    "equipos = []\n",
    "count = 0"
   ]
  },
  {
   "cell_type": "code",
   "execution_count": 41,
   "metadata": {},
   "outputs": [],
   "source": [
    "for i in eq:\n",
    "    if count < 20:\n",
    "        equipos.append(i.text)\n",
    "    else: \n",
    "        break\n",
    "    count += 1"
   ]
  },
  {
   "cell_type": "code",
   "execution_count": 42,
   "metadata": {},
   "outputs": [
    {
     "name": "stdout",
     "output_type": "stream",
     "text": [
      "['R. Sociedad', 'Real Madrid', 'Villarreal', 'Atlético', 'Cádiz', 'Granada', 'Betis', 'Barcelona', 'Getafe', 'Elche', 'Osasuna', 'Athletic', 'Eibar', 'Valencia', 'Alavés', 'Sevilla', 'Celta', 'Huesca', 'Levante', 'Real Valladolid'] 20\n"
     ]
    }
   ],
   "source": [
    "print(equipos, len(equipos))"
   ]
  },
  {
   "cell_type": "code",
   "execution_count": 43,
   "metadata": {},
   "outputs": [],
   "source": [
    "pt = soup.find_all('td', class_='destacado')\n",
    "puntos = list()\n",
    "count = 0\n",
    "for i in pt:\n",
    "    if count < 20:\n",
    "        puntos.append(i.text)\n",
    "    else: \n",
    "        break\n",
    "    count += 1"
   ]
  },
  {
   "cell_type": "code",
   "execution_count": 44,
   "metadata": {},
   "outputs": [
    {
     "name": "stdout",
     "output_type": "stream",
     "text": [
      "['17', '16', '15', '14', '14', '14', '12', '11', '11', '11', '10', '9', '9', '8', '8', '7', '7', '6', '5', '3']\n"
     ]
    }
   ],
   "source": [
    "print(puntos)"
   ]
  },
  {
   "cell_type": "code",
   "execution_count": 50,
   "metadata": {},
   "outputs": [],
   "source": [
    "df = pd.DataFrame({'Nombre':equipos, 'Puntos':puntos}, index=list(range(1,21)))"
   ]
  },
  {
   "cell_type": "code",
   "execution_count": 51,
   "metadata": {},
   "outputs": [
    {
     "name": "stdout",
     "output_type": "stream",
     "text": [
      "             Nombre Puntos\n",
      "1       R. Sociedad     17\n",
      "2       Real Madrid     16\n",
      "3        Villarreal     15\n",
      "4          Atlético     14\n",
      "5             Cádiz     14\n",
      "6           Granada     14\n",
      "7             Betis     12\n",
      "8         Barcelona     11\n",
      "9            Getafe     11\n",
      "10            Elche     11\n",
      "11          Osasuna     10\n",
      "12         Athletic      9\n",
      "13            Eibar      9\n",
      "14         Valencia      8\n",
      "15           Alavés      8\n",
      "16          Sevilla      7\n",
      "17            Celta      7\n",
      "18           Huesca      6\n",
      "19          Levante      5\n",
      "20  Real Valladolid      3\n"
     ]
    }
   ],
   "source": [
    "print(df)"
   ]
  },
  {
   "cell_type": "code",
   "execution_count": null,
   "metadata": {},
   "outputs": [],
   "source": []
  }
 ],
 "metadata": {
  "kernelspec": {
   "display_name": "Python 3",
   "language": "python",
   "name": "python3"
  },
  "language_info": {
   "codemirror_mode": {
    "name": "ipython",
    "version": 3
   },
   "file_extension": ".py",
   "mimetype": "text/x-python",
   "name": "python",
   "nbconvert_exporter": "python",
   "pygments_lexer": "ipython3",
   "version": "3.8.3"
  }
 },
 "nbformat": 4,
 "nbformat_minor": 4
}
